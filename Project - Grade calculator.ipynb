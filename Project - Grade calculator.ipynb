{
 "cells": [
  {
   "cell_type": "code",
   "execution_count": 64,
   "metadata": {
    "collapsed": true
   },
   "outputs": [],
   "source": [
    "\n",
    "#exp = 'C:/Users/HP/Downloads/tech/policy.csv'\n",
    "#dat = 'C:/Users/HP/Downloads/tech/data.csv'\n",
    "#exp = 'C:/Users/HP/Downloads/sme/policy.csv'\n",
    "#dat = 'C:/Users/HP/Downloads/sme/data.csv'\n",
    "#exp = 'C:/Users/HP/Downloads/hl_pl/policy.csv'\n",
    "#dat = 'C:/Users/HP/Downloads/hl_pl/data.csv'\n",
    "#exp = 'C:/Users/HP/Downloads/prithvi/policy.csv'\n",
    "#dat = 'C:/Users/HP/Downloads/prithvi/data.csv'\n",
    "exp = 'C:/Users/HP/Downloads/Consumer/policy.csv'\n",
    "dat = 'C:/Users/HP/Downloads/Consumer/data.csv'\n",
    "\n",
    "#exp = 'C:/Users/HP/Downloads/ops/policy.csv'\n",
    "#dat = 'C:/Users/HP/Downloads/ops/data.csv'\n",
    "\n",
    "#exp = 'C:/Users/HP/Downloads/data set/grade_matrix3.csv'\n",
    "#exp = 'C:/Users/HP/Downloads/policy.csv'\n",
    "#dat = 'C:/Users/HP/Downloads/data.csv'\n",
    "#dat = 'C:/Users/HP/Downloads/data set/test_data_grade3.csv'"
   ]
  },
  {
   "cell_type": "code",
   "execution_count": 65,
   "metadata": {
    "collapsed": true
   },
   "outputs": [],
   "source": [
    "import numpy as np\n",
    "import pandas as pd\n",
    "from pandas import Series,DataFrame"
   ]
  },
  {
   "cell_type": "code",
   "execution_count": 66,
   "metadata": {},
   "outputs": [],
   "source": [
    "#nontech\n",
    "min_comp = pd.Series([1.5,2.5,4.5,7,12,20,30,40,55,75],\\\n",
    "#tech\n",
    "#min_comp = pd.Series([1.5,2,5,10,18,20,30,40,55,75],\\\n",
    "\n",
    "index=['Executive','Assistant Manager','Manager','Chief Manager','AVP','VP','SVP','Director','MD','President'])\n",
    "#nontech\n",
    "max_comp = pd.Series([3.5,5.5,8.5,14,25,35,45,60,80,200], \\\n",
    "#max_comp = pd.Series([3.5,8,14,20,30,36,48,60,80,200], \\\n",
    "index=['Executive','Assistant Manager','Manager','Chief Manager','AVP','VP','SVP','Director','MD','President'])\n",
    "comp_matrix = pd.concat([min_comp,max_comp], axis=1, keys=['min_comp','max_comp'])"
   ]
  },
  {
   "cell_type": "code",
   "execution_count": 67,
   "metadata": {},
   "outputs": [
    {
     "data": {
      "text/html": [
       "<div>\n",
       "<style>\n",
       "    .dataframe thead tr:only-child th {\n",
       "        text-align: right;\n",
       "    }\n",
       "\n",
       "    .dataframe thead th {\n",
       "        text-align: left;\n",
       "    }\n",
       "\n",
       "    .dataframe tbody tr th {\n",
       "        vertical-align: top;\n",
       "    }\n",
       "</style>\n",
       "<table border=\"1\" class=\"dataframe\">\n",
       "  <thead>\n",
       "    <tr style=\"text-align: right;\">\n",
       "      <th></th>\n",
       "      <th>min_comp</th>\n",
       "      <th>max_comp</th>\n",
       "    </tr>\n",
       "  </thead>\n",
       "  <tbody>\n",
       "    <tr>\n",
       "      <th>Executive</th>\n",
       "      <td>1.5</td>\n",
       "      <td>3.5</td>\n",
       "    </tr>\n",
       "    <tr>\n",
       "      <th>Assistant Manager</th>\n",
       "      <td>2.5</td>\n",
       "      <td>5.5</td>\n",
       "    </tr>\n",
       "    <tr>\n",
       "      <th>Manager</th>\n",
       "      <td>4.5</td>\n",
       "      <td>8.5</td>\n",
       "    </tr>\n",
       "    <tr>\n",
       "      <th>Chief Manager</th>\n",
       "      <td>7.0</td>\n",
       "      <td>14.0</td>\n",
       "    </tr>\n",
       "    <tr>\n",
       "      <th>AVP</th>\n",
       "      <td>12.0</td>\n",
       "      <td>25.0</td>\n",
       "    </tr>\n",
       "    <tr>\n",
       "      <th>VP</th>\n",
       "      <td>20.0</td>\n",
       "      <td>35.0</td>\n",
       "    </tr>\n",
       "    <tr>\n",
       "      <th>SVP</th>\n",
       "      <td>30.0</td>\n",
       "      <td>45.0</td>\n",
       "    </tr>\n",
       "    <tr>\n",
       "      <th>Director</th>\n",
       "      <td>40.0</td>\n",
       "      <td>60.0</td>\n",
       "    </tr>\n",
       "    <tr>\n",
       "      <th>MD</th>\n",
       "      <td>55.0</td>\n",
       "      <td>80.0</td>\n",
       "    </tr>\n",
       "    <tr>\n",
       "      <th>President</th>\n",
       "      <td>75.0</td>\n",
       "      <td>200.0</td>\n",
       "    </tr>\n",
       "  </tbody>\n",
       "</table>\n",
       "</div>"
      ],
      "text/plain": [
       "                   min_comp  max_comp\n",
       "Executive               1.5       3.5\n",
       "Assistant Manager       2.5       5.5\n",
       "Manager                 4.5       8.5\n",
       "Chief Manager           7.0      14.0\n",
       "AVP                    12.0      25.0\n",
       "VP                     20.0      35.0\n",
       "SVP                    30.0      45.0\n",
       "Director               40.0      60.0\n",
       "MD                     55.0      80.0\n",
       "President              75.0     200.0"
      ]
     },
     "execution_count": 67,
     "metadata": {},
     "output_type": "execute_result"
    }
   ],
   "source": [
    "comp_matrix.get_value('Executive','min_comp') # way number 1 - use the keys \n",
    "comp_matrix.loc['Executive','min_comp'] # way number 2 - use the keys\n",
    "comp_matrix.iloc[0,0] # way number 3 - use the number indexes starting from 0,0\n",
    "comp_matrix"
   ]
  },
  {
   "cell_type": "code",
   "execution_count": 68,
   "metadata": {
    "scrolled": true
   },
   "outputs": [
    {
     "data": {
      "text/html": [
       "<div>\n",
       "<style>\n",
       "    .dataframe thead tr:only-child th {\n",
       "        text-align: right;\n",
       "    }\n",
       "\n",
       "    .dataframe thead th {\n",
       "        text-align: left;\n",
       "    }\n",
       "\n",
       "    .dataframe tbody tr th {\n",
       "        vertical-align: top;\n",
       "    }\n",
       "</style>\n",
       "<table border=\"1\" class=\"dataframe\">\n",
       "  <thead>\n",
       "    <tr style=\"text-align: right;\">\n",
       "      <th></th>\n",
       "      <th>role</th>\n",
       "      <th>business</th>\n",
       "      <th>function</th>\n",
       "      <th>grade</th>\n",
       "      <th>min_exp</th>\n",
       "      <th>max_exp</th>\n",
       "      <th>dual</th>\n",
       "      <th>min_edu</th>\n",
       "      <th>max_edu</th>\n",
       "    </tr>\n",
       "    <tr>\n",
       "      <th>rolekey</th>\n",
       "      <th></th>\n",
       "      <th></th>\n",
       "      <th></th>\n",
       "      <th></th>\n",
       "      <th></th>\n",
       "      <th></th>\n",
       "      <th></th>\n",
       "      <th></th>\n",
       "      <th></th>\n",
       "    </tr>\n",
       "  </thead>\n",
       "  <tbody>\n",
       "    <tr>\n",
       "      <th>AREA SALES MANAGER-PERSONAL LOANS</th>\n",
       "      <td>AREA SALES MANAGER</td>\n",
       "      <td>CONSUMER</td>\n",
       "      <td>SALES</td>\n",
       "      <td>Chief Manager</td>\n",
       "      <td>7</td>\n",
       "      <td>12</td>\n",
       "      <td>1</td>\n",
       "      <td>5</td>\n",
       "      <td>2</td>\n",
       "    </tr>\n",
       "    <tr>\n",
       "      <th>ASSISTANT SALES MANAGER-PERSONAL LOANS</th>\n",
       "      <td>ASSISTANT SALES MANAGER</td>\n",
       "      <td>CONSUMER</td>\n",
       "      <td>SALES</td>\n",
       "      <td>Assistant Manager</td>\n",
       "      <td>0</td>\n",
       "      <td>5</td>\n",
       "      <td>1</td>\n",
       "      <td>5</td>\n",
       "      <td>3</td>\n",
       "    </tr>\n",
       "    <tr>\n",
       "      <th>SALES EXECUTIVE-PERSONAL LOANS</th>\n",
       "      <td>SALES EXECUTIVE</td>\n",
       "      <td>CONSUMER</td>\n",
       "      <td>SALES</td>\n",
       "      <td>Executive</td>\n",
       "      <td>0</td>\n",
       "      <td>5</td>\n",
       "      <td>1</td>\n",
       "      <td>5</td>\n",
       "      <td>3</td>\n",
       "    </tr>\n",
       "    <tr>\n",
       "      <th>DISBURSAL CORDINATOR-PERSONAL LOANS</th>\n",
       "      <td>DISBURSAL CORDINATOR</td>\n",
       "      <td>CONSUMER</td>\n",
       "      <td>SALES</td>\n",
       "      <td>Executive</td>\n",
       "      <td>0</td>\n",
       "      <td>4</td>\n",
       "      <td>1</td>\n",
       "      <td>5</td>\n",
       "      <td>3</td>\n",
       "    </tr>\n",
       "    <tr>\n",
       "      <th>SALES MANAGER-PERSONAL LOANS</th>\n",
       "      <td>SALES MANAGER</td>\n",
       "      <td>CONSUMER</td>\n",
       "      <td>SALES</td>\n",
       "      <td>Manager</td>\n",
       "      <td>3</td>\n",
       "      <td>8</td>\n",
       "      <td>1</td>\n",
       "      <td>5</td>\n",
       "      <td>3</td>\n",
       "    </tr>\n",
       "    <tr>\n",
       "      <th>SALES COORDINATOR-PERSONAL LOANS</th>\n",
       "      <td>SALES COORDINATOR</td>\n",
       "      <td>CONSUMER</td>\n",
       "      <td>SALES</td>\n",
       "      <td>Executive</td>\n",
       "      <td>2</td>\n",
       "      <td>6</td>\n",
       "      <td>1</td>\n",
       "      <td>5</td>\n",
       "      <td>3</td>\n",
       "    </tr>\n",
       "    <tr>\n",
       "      <th>AREA SALES MANAGER-TWO WHEELER LOANS</th>\n",
       "      <td>AREA SALES MANAGER</td>\n",
       "      <td>CONSUMER</td>\n",
       "      <td>SALES</td>\n",
       "      <td>Chief Manager</td>\n",
       "      <td>7</td>\n",
       "      <td>12</td>\n",
       "      <td>1</td>\n",
       "      <td>5</td>\n",
       "      <td>2</td>\n",
       "    </tr>\n",
       "    <tr>\n",
       "      <th>ASSISTANT SALES MANAGER-TWO WHEELER LOANS</th>\n",
       "      <td>ASSISTANT SALES MANAGER</td>\n",
       "      <td>CONSUMER</td>\n",
       "      <td>SALES</td>\n",
       "      <td>Assistant Manager</td>\n",
       "      <td>0</td>\n",
       "      <td>5</td>\n",
       "      <td>1</td>\n",
       "      <td>5</td>\n",
       "      <td>3</td>\n",
       "    </tr>\n",
       "    <tr>\n",
       "      <th>TEAM LEADER-TWO WHEELER LOANS</th>\n",
       "      <td>TEAM LEADER</td>\n",
       "      <td>CONSUMER</td>\n",
       "      <td>SALES</td>\n",
       "      <td>Executive</td>\n",
       "      <td>3</td>\n",
       "      <td>8</td>\n",
       "      <td>1</td>\n",
       "      <td>5</td>\n",
       "      <td>3</td>\n",
       "    </tr>\n",
       "    <tr>\n",
       "      <th>REGIONAL SALES MANAGER-TWO WHEELER LOANS</th>\n",
       "      <td>REGIONAL SALES MANAGER</td>\n",
       "      <td>CONSUMER</td>\n",
       "      <td>SALES</td>\n",
       "      <td>Chief Manager</td>\n",
       "      <td>8</td>\n",
       "      <td>15</td>\n",
       "      <td>1</td>\n",
       "      <td>4</td>\n",
       "      <td>2</td>\n",
       "    </tr>\n",
       "    <tr>\n",
       "      <th>HEAD OF TWO WHEELER BUSINESS-TWO WHEELER LOANS</th>\n",
       "      <td>HEAD OF TWO WHEELER BUSINESS</td>\n",
       "      <td>CONSUMER</td>\n",
       "      <td>MANAGEMENT</td>\n",
       "      <td>MD</td>\n",
       "      <td>18</td>\n",
       "      <td>25</td>\n",
       "      <td>1</td>\n",
       "      <td>2</td>\n",
       "      <td>1</td>\n",
       "    </tr>\n",
       "    <tr>\n",
       "      <th>REGIONAL CREDIT MANAGER-TWO WHEELER LOANS</th>\n",
       "      <td>REGIONAL CREDIT MANAGER</td>\n",
       "      <td>CONSUMER</td>\n",
       "      <td>CREDIT</td>\n",
       "      <td>Chief Manager</td>\n",
       "      <td>8</td>\n",
       "      <td>12</td>\n",
       "      <td>1</td>\n",
       "      <td>4</td>\n",
       "      <td>2</td>\n",
       "    </tr>\n",
       "  </tbody>\n",
       "</table>\n",
       "</div>"
      ],
      "text/plain": [
       "                                                                        role  \\\n",
       "rolekey                                                                        \n",
       "AREA SALES MANAGER-PERSONAL LOANS                         AREA SALES MANAGER   \n",
       "ASSISTANT SALES MANAGER-PERSONAL LOANS               ASSISTANT SALES MANAGER   \n",
       "SALES EXECUTIVE-PERSONAL LOANS                               SALES EXECUTIVE   \n",
       "DISBURSAL CORDINATOR-PERSONAL LOANS                     DISBURSAL CORDINATOR   \n",
       "SALES MANAGER-PERSONAL LOANS                                   SALES MANAGER   \n",
       "SALES COORDINATOR-PERSONAL LOANS                           SALES COORDINATOR   \n",
       "AREA SALES MANAGER-TWO WHEELER LOANS                      AREA SALES MANAGER   \n",
       "ASSISTANT SALES MANAGER-TWO WHEELER LOANS            ASSISTANT SALES MANAGER   \n",
       "TEAM LEADER-TWO WHEELER LOANS                                    TEAM LEADER   \n",
       "REGIONAL SALES MANAGER-TWO WHEELER LOANS              REGIONAL SALES MANAGER   \n",
       "HEAD OF TWO WHEELER BUSINESS-TWO WHEELER LOANS  HEAD OF TWO WHEELER BUSINESS   \n",
       "REGIONAL CREDIT MANAGER-TWO WHEELER LOANS            REGIONAL CREDIT MANAGER   \n",
       "\n",
       "                                                business    function  \\\n",
       "rolekey                                                                \n",
       "AREA SALES MANAGER-PERSONAL LOANS               CONSUMER       SALES   \n",
       "ASSISTANT SALES MANAGER-PERSONAL LOANS          CONSUMER       SALES   \n",
       "SALES EXECUTIVE-PERSONAL LOANS                  CONSUMER       SALES   \n",
       "DISBURSAL CORDINATOR-PERSONAL LOANS             CONSUMER       SALES   \n",
       "SALES MANAGER-PERSONAL LOANS                    CONSUMER       SALES   \n",
       "SALES COORDINATOR-PERSONAL LOANS                CONSUMER       SALES   \n",
       "AREA SALES MANAGER-TWO WHEELER LOANS            CONSUMER       SALES   \n",
       "ASSISTANT SALES MANAGER-TWO WHEELER LOANS       CONSUMER       SALES   \n",
       "TEAM LEADER-TWO WHEELER LOANS                   CONSUMER       SALES   \n",
       "REGIONAL SALES MANAGER-TWO WHEELER LOANS        CONSUMER       SALES   \n",
       "HEAD OF TWO WHEELER BUSINESS-TWO WHEELER LOANS  CONSUMER  MANAGEMENT   \n",
       "REGIONAL CREDIT MANAGER-TWO WHEELER LOANS       CONSUMER      CREDIT   \n",
       "\n",
       "                                                            grade  min_exp  \\\n",
       "rolekey                                                                      \n",
       "AREA SALES MANAGER-PERSONAL LOANS                   Chief Manager        7   \n",
       "ASSISTANT SALES MANAGER-PERSONAL LOANS          Assistant Manager        0   \n",
       "SALES EXECUTIVE-PERSONAL LOANS                          Executive        0   \n",
       "DISBURSAL CORDINATOR-PERSONAL LOANS                     Executive        0   \n",
       "SALES MANAGER-PERSONAL LOANS                              Manager        3   \n",
       "SALES COORDINATOR-PERSONAL LOANS                        Executive        2   \n",
       "AREA SALES MANAGER-TWO WHEELER LOANS                Chief Manager        7   \n",
       "ASSISTANT SALES MANAGER-TWO WHEELER LOANS       Assistant Manager        0   \n",
       "TEAM LEADER-TWO WHEELER LOANS                           Executive        3   \n",
       "REGIONAL SALES MANAGER-TWO WHEELER LOANS            Chief Manager        8   \n",
       "HEAD OF TWO WHEELER BUSINESS-TWO WHEELER LOANS                 MD       18   \n",
       "REGIONAL CREDIT MANAGER-TWO WHEELER LOANS           Chief Manager        8   \n",
       "\n",
       "                                                max_exp  dual  min_edu  \\\n",
       "rolekey                                                                  \n",
       "AREA SALES MANAGER-PERSONAL LOANS                    12     1        5   \n",
       "ASSISTANT SALES MANAGER-PERSONAL LOANS                5     1        5   \n",
       "SALES EXECUTIVE-PERSONAL LOANS                        5     1        5   \n",
       "DISBURSAL CORDINATOR-PERSONAL LOANS                   4     1        5   \n",
       "SALES MANAGER-PERSONAL LOANS                          8     1        5   \n",
       "SALES COORDINATOR-PERSONAL LOANS                      6     1        5   \n",
       "AREA SALES MANAGER-TWO WHEELER LOANS                 12     1        5   \n",
       "ASSISTANT SALES MANAGER-TWO WHEELER LOANS             5     1        5   \n",
       "TEAM LEADER-TWO WHEELER LOANS                         8     1        5   \n",
       "REGIONAL SALES MANAGER-TWO WHEELER LOANS             15     1        4   \n",
       "HEAD OF TWO WHEELER BUSINESS-TWO WHEELER LOANS       25     1        2   \n",
       "REGIONAL CREDIT MANAGER-TWO WHEELER LOANS            12     1        4   \n",
       "\n",
       "                                                max_edu  \n",
       "rolekey                                                  \n",
       "AREA SALES MANAGER-PERSONAL LOANS                     2  \n",
       "ASSISTANT SALES MANAGER-PERSONAL LOANS                3  \n",
       "SALES EXECUTIVE-PERSONAL LOANS                        3  \n",
       "DISBURSAL CORDINATOR-PERSONAL LOANS                   3  \n",
       "SALES MANAGER-PERSONAL LOANS                          3  \n",
       "SALES COORDINATOR-PERSONAL LOANS                      3  \n",
       "AREA SALES MANAGER-TWO WHEELER LOANS                  2  \n",
       "ASSISTANT SALES MANAGER-TWO WHEELER LOANS             3  \n",
       "TEAM LEADER-TWO WHEELER LOANS                         3  \n",
       "REGIONAL SALES MANAGER-TWO WHEELER LOANS              2  \n",
       "HEAD OF TWO WHEELER BUSINESS-TWO WHEELER LOANS        1  \n",
       "REGIONAL CREDIT MANAGER-TWO WHEELER LOANS             2  "
      ]
     },
     "execution_count": 68,
     "metadata": {},
     "output_type": "execute_result"
    }
   ],
   "source": [
    "input_exp_matrix = pd.read_csv(exp,index_col=['rolekey'])\n",
    "#input_exp_matrix = pd.read_csv(exp)\n",
    "#exp_matrix = exp_m.set_index(['rolekey'])\n",
    "#df_gt['comp_dev'] = df_gt.apply(lambda df_gt: comp(df_gt['comp'],df_gt['role_key']), axis=1)\n",
    "exp_matrix=input_exp_matrix[input_exp_matrix['dual']==1]\n",
    "input_exp_matrix"
   ]
  },
  {
   "cell_type": "code",
   "execution_count": 29,
   "metadata": {
    "collapsed": true
   },
   "outputs": [],
   "source": []
  },
  {
   "cell_type": "code",
   "execution_count": 69,
   "metadata": {
    "collapsed": true
   },
   "outputs": [],
   "source": [
    "grade_level = input_exp_matrix.groupby(['rolekey'], as_index=True)['dual'].max()\n",
    "\n",
    "def comp (i,rkey,v) :\n",
    "    # i ~ compensation , rkey is role key, v is version of grade\n",
    "    exp_m=input_exp_matrix[input_exp_matrix['dual']==v]\n",
    "    if not rkey in exp_m.index.values :\n",
    "        return 'Not Found'\n",
    "    grade = exp_m.get_value(rkey,'grade')\n",
    "    if i >= comp_matrix.get_value(grade,'min_comp') and i <= comp_matrix.get_value(grade,'max_comp') :\n",
    "        return 'No'\n",
    "    elif i == 0 :\n",
    "        return 'NA'\n",
    "    elif i < comp_matrix.get_value(grade,'min_comp') :\n",
    "        return 'Yes-'\n",
    "    elif i > comp_matrix.get_value(grade,'max_comp') :\n",
    "        return 'Yes+'"
   ]
  },
  {
   "cell_type": "code",
   "execution_count": 49,
   "metadata": {},
   "outputs": [
    {
     "data": {
      "text/plain": [
       "'Not Found'"
      ]
     },
     "execution_count": 49,
     "metadata": {},
     "output_type": "execute_result"
    }
   ],
   "source": [
    "comp(0.2,'Sales Executive-Home Loans',3)"
   ]
  },
  {
   "cell_type": "code",
   "execution_count": 13,
   "metadata": {
    "collapsed": true
   },
   "outputs": [],
   "source": [
    "#exp_matrix.get_value('Credit Head - Secured Loans-Home Loans','role')"
   ]
  },
  {
   "cell_type": "code",
   "execution_count": 70,
   "metadata": {
    "collapsed": true
   },
   "outputs": [],
   "source": [
    "#function to identify deviations in experience\n",
    "def exp (exp,role_key,v) :\n",
    "    exp_m = input_exp_matrix[input_exp_matrix['dual']==v]\n",
    "    if not role_key in exp_m.index.values :\n",
    "        return 'Not Found'\n",
    "    elif type(exp)== type('hi') :\n",
    "        return 'Not Found'\n",
    "    elif exp >= exp_m.get_value(role_key,'min_exp') and exp <= exp_m.get_value(role_key,'max_exp') :\n",
    "        return 'No'\n",
    "    elif exp < exp_m.get_value(role_key,'min_exp') :\n",
    "        return 'Yes-'\n",
    "    elif exp > exp_m.get_value(role_key,'max_exp') :\n",
    "        return 'Yes+'\n",
    "    \n",
    "#function to set grade \n",
    "def output (c,e,edu,g) :\n",
    "    # c - compensation and e - experience and edu - education and g - grade\n",
    "    if c=='Not Found' or e =='Not Found' or edu =='Not Found':\n",
    "        return 'Not Found'\n",
    "    elif c=='NA' or e=='NA' or edu=='NA':\n",
    "        return 'NA'\n",
    "    else :\n",
    "        #return 'TBD'\n",
    "        return g\n",
    "    \n",
    "def get_grade(rkey,v) :\n",
    "    exp_m = input_exp_matrix[input_exp_matrix['dual']==v]\n",
    "    if rkey in exp_m.index.values : \n",
    "           return exp_m.get_value(rkey,'grade')\n",
    "    else :\n",
    "        return \"Not Found\"\n",
    "\n",
    "def edu (qual,role_key,v) :\n",
    "    exp_m = input_exp_matrix[input_exp_matrix['dual']==v]\n",
    "    if not role_key in exp_m.index.values :\n",
    "        return \"Not Found\"\n",
    "    elif type(exp)== type('hi') :\n",
    "        return 'Not Found'\n",
    "    elif qual >= exp_m.get_value(role_key,'min_edu') and qual <= exp_m.get_value(role_key,'max_edu') :\n",
    "        return 'No'\n",
    "    elif qual < exp_m.get_value(role_key,'min_edu') :\n",
    "        return 'Yes-'\n",
    "    elif qual > exp_m.get_value(role_key,'max_edu') :\n",
    "        return 'Yes+'\n",
    "\n",
    "    \n",
    "def grade_l (role_key):\n",
    "    if not role_key in exp_matrix.index.values :\n",
    "         return 0\n",
    "    else :\n",
    "        return grade_level[role_key]"
   ]
  },
  {
   "cell_type": "code",
   "execution_count": 24,
   "metadata": {},
   "outputs": [
    {
     "data": {
      "text/plain": [
       "False"
      ]
     },
     "execution_count": 24,
     "metadata": {},
     "output_type": "execute_result"
    }
   ],
   "source": [
    "'hi' in exp_matrix.index.values"
   ]
  },
  {
   "cell_type": "code",
   "execution_count": 25,
   "metadata": {},
   "outputs": [
    {
     "data": {
      "text/plain": [
       "'Not Found'"
      ]
     },
     "execution_count": 25,
     "metadata": {},
     "output_type": "execute_result"
    }
   ],
   "source": [
    "exp(0,'Sales Executive-Home Loans',1)"
   ]
  },
  {
   "cell_type": "code",
   "execution_count": 26,
   "metadata": {},
   "outputs": [
    {
     "data": {
      "text/plain": [
       "'Not Found'"
      ]
     },
     "execution_count": 26,
     "metadata": {},
     "output_type": "execute_result"
    }
   ],
   "source": [
    "get_grade('Sales Executive-Home Loans',3)"
   ]
  },
  {
   "cell_type": "code",
   "execution_count": 27,
   "metadata": {},
   "outputs": [
    {
     "data": {
      "text/plain": [
       "'Not Found'"
      ]
     },
     "execution_count": 27,
     "metadata": {},
     "output_type": "execute_result"
    }
   ],
   "source": [
    "exp(100,'NSH-Home Loan',1)"
   ]
  },
  {
   "cell_type": "code",
   "execution_count": 30,
   "metadata": {},
   "outputs": [
    {
     "name": "stdout",
     "output_type": "stream",
     "text": [
      "2\n"
     ]
    }
   ],
   "source": [
    "print (grade_l('SOFTWARE ENGINEER-CENTRAL'))"
   ]
  },
  {
   "cell_type": "code",
   "execution_count": 71,
   "metadata": {
    "scrolled": true
   },
   "outputs": [
    {
     "name": "stderr",
     "output_type": "stream",
     "text": [
      "C:\\Users\\HP\\Anaconda3\\lib\\site-packages\\ipykernel_launcher.py:8: RuntimeWarning: invalid value encountered in less_equal\n",
      "  \n",
      "C:\\Users\\HP\\Anaconda3\\lib\\site-packages\\ipykernel_launcher.py:10: RuntimeWarning: invalid value encountered in greater\n",
      "  # Remove the CWD from sys.path while we load stuff.\n",
      "C:\\Users\\HP\\Anaconda3\\lib\\site-packages\\ipykernel_launcher.py:12: RuntimeWarning: invalid value encountered in less\n",
      "  if sys.path[0] == '':\n",
      "C:\\Users\\HP\\Anaconda3\\lib\\site-packages\\ipykernel_launcher.py:39: RuntimeWarning: invalid value encountered in less_equal\n",
      "C:\\Users\\HP\\Anaconda3\\lib\\site-packages\\ipykernel_launcher.py:41: RuntimeWarning: invalid value encountered in greater\n",
      "C:\\Users\\HP\\Anaconda3\\lib\\site-packages\\ipykernel_launcher.py:43: RuntimeWarning: invalid value encountered in less\n"
     ]
    }
   ],
   "source": [
    "df_gt = pd.read_csv(dat)\n",
    "df_gt['role_spread'] = df_gt.apply(lambda df_gt: grade_l(df_gt['role_key']) ,axis=1)\n",
    "df_gt['comp_dev'] = df_gt.apply(lambda df_gt: comp(df_gt['comp'],df_gt['role_key'],1), axis=1)\n",
    "df_gt['exp_dev'] = df_gt.apply(lambda df_gt: exp(df_gt['exp'],df_gt['role_key'],1), axis=1)\n",
    "df_gt['edu_dev'] = df_gt.apply(lambda df_gt: edu(df_gt['exp'],df_gt['role_key'],1), axis=1)\n",
    "df_gt['New_grade'] = df_gt.apply(lambda df_gt: output(df_gt['comp_dev'],df_gt['exp_dev'],df_gt['edu_dev'],get_grade(df_gt['role_key'],1)), axis=1)\n",
    "df_gt['grade_case'] = 1\n",
    "\n",
    "df_gt.to_csv('consumer_output')\n"
   ]
  },
  {
   "cell_type": "code",
   "execution_count": 34,
   "metadata": {
    "collapsed": true
   },
   "outputs": [],
   "source": [
    "#running for v2\n",
    "db2 =  pd.read_csv(dat)\n",
    "db2['role_spread'] = db2.apply(lambda db2: grade_l(db2['role_key']) ,axis=1)\n",
    "o2 = db2[db2['role_spread']>1]\n"
   ]
  },
  {
   "cell_type": "code",
   "execution_count": 35,
   "metadata": {},
   "outputs": [
    {
     "name": "stderr",
     "output_type": "stream",
     "text": [
      "C:\\Users\\HP\\Anaconda3\\lib\\site-packages\\ipykernel_launcher.py:1: SettingWithCopyWarning: \n",
      "A value is trying to be set on a copy of a slice from a DataFrame.\n",
      "Try using .loc[row_indexer,col_indexer] = value instead\n",
      "\n",
      "See the caveats in the documentation: http://pandas.pydata.org/pandas-docs/stable/indexing.html#indexing-view-versus-copy\n",
      "  \"\"\"Entry point for launching an IPython kernel.\n",
      "C:\\Users\\HP\\Anaconda3\\lib\\site-packages\\ipykernel_launcher.py:3: SettingWithCopyWarning: \n",
      "A value is trying to be set on a copy of a slice from a DataFrame.\n",
      "Try using .loc[row_indexer,col_indexer] = value instead\n",
      "\n",
      "See the caveats in the documentation: http://pandas.pydata.org/pandas-docs/stable/indexing.html#indexing-view-versus-copy\n",
      "  This is separate from the ipykernel package so we can avoid doing imports until\n",
      "C:\\Users\\HP\\Anaconda3\\lib\\site-packages\\ipykernel_launcher.py:4: SettingWithCopyWarning: \n",
      "A value is trying to be set on a copy of a slice from a DataFrame.\n",
      "Try using .loc[row_indexer,col_indexer] = value instead\n",
      "\n",
      "See the caveats in the documentation: http://pandas.pydata.org/pandas-docs/stable/indexing.html#indexing-view-versus-copy\n",
      "  after removing the cwd from sys.path.\n",
      "C:\\Users\\HP\\Anaconda3\\lib\\site-packages\\ipykernel_launcher.py:5: SettingWithCopyWarning: \n",
      "A value is trying to be set on a copy of a slice from a DataFrame.\n",
      "Try using .loc[row_indexer,col_indexer] = value instead\n",
      "\n",
      "See the caveats in the documentation: http://pandas.pydata.org/pandas-docs/stable/indexing.html#indexing-view-versus-copy\n",
      "  \"\"\"\n",
      "C:\\Users\\HP\\Anaconda3\\lib\\site-packages\\ipykernel_launcher.py:6: SettingWithCopyWarning: \n",
      "A value is trying to be set on a copy of a slice from a DataFrame.\n",
      "Try using .loc[row_indexer,col_indexer] = value instead\n",
      "\n",
      "See the caveats in the documentation: http://pandas.pydata.org/pandas-docs/stable/indexing.html#indexing-view-versus-copy\n",
      "  \n"
     ]
    }
   ],
   "source": [
    "o2['comp_dev'] = o2.apply(lambda o2: comp(o2['comp'],o2['role_key'],2), axis=1)\n",
    "#comp(100,'CREDIT MANAGER-SBL',1)\n",
    "o2['exp_dev'] = o2.apply(lambda o2: exp(o2['exp'],o2['role_key'],2), axis=1)\n",
    "o2['edu_dev'] = o2.apply(lambda o2: edu(o2['exp'],o2['role_key'],2), axis=1)\n",
    "o2['New_grade'] = o2.apply(lambda o2: output(o2['comp_dev'],o2['exp_dev'],o2['edu_dev'],get_grade(o2['role_key'],2)), axis=1)\n",
    "o2['grade_case'] = 2"
   ]
  },
  {
   "cell_type": "code",
   "execution_count": 37,
   "metadata": {
    "collapsed": true
   },
   "outputs": [],
   "source": [
    "result_12 = pd.concat([df_gt,o2])\n",
    "#result_12.to_csv('tech_3_output')"
   ]
  },
  {
   "cell_type": "code",
   "execution_count": null,
   "metadata": {
    "collapsed": true
   },
   "outputs": [],
   "source": []
  },
  {
   "cell_type": "code",
   "execution_count": null,
   "metadata": {
    "collapsed": true
   },
   "outputs": [],
   "source": [
    "\n",
    "\n",
    "db3 =  pd.read_csv(dat)\n",
    "db3['role_spread'] = db3.apply(lambda db3: grade_l(db3['role_key']) ,axis=1)\n",
    "o3 = db3[db3['role_spread']>2]\n",
    "o3['comp_dev'] = o3.apply(lambda o3: comp(o3['comp'],o3['role_key'],3), axis=1)\n",
    "o3['exp_dev'] = o3.apply(lambda o3: exp(o3['exp'],o3['role_key'],3), axis=1)\n",
    "o3['edu_dev'] = o3.apply(lambda o3: edu(o3['exp'],o3['role_key'],3), axis=1)\n",
    "o3['New_grade'] = o3.apply(lambda o3: output(o3['comp_dev'],o3['exp_dev'],o3['edu_dev'],get_grade(o3['role_key'],3)), axis=1)\n",
    "o3['grade_case'] = 3\n",
    "result = pd.concat([df_gt,o2,o3])\n",
    "#result.to_csv('grade_2_output')\n"
   ]
  },
  {
   "cell_type": "code",
   "execution_count": null,
   "metadata": {
    "collapsed": true
   },
   "outputs": [],
   "source": [
    "#sum(df_gt['role_spread']>1)+sum(df_gt['role_spread']>2)+206"
   ]
  },
  {
   "cell_type": "code",
   "execution_count": null,
   "metadata": {
    "collapsed": true,
    "scrolled": true
   },
   "outputs": [],
   "source": [
    "#result['New Grade'] = result.apply (lambda result: output(result['comp_dev'],result['exp_dev'],result['edu_dev'],get_grade(result['role_key']),result['grade_case']), axis=1)\n",
    "#df_gt.to_csv('grade_2_output')\n"
   ]
  },
  {
   "cell_type": "code",
   "execution_count": null,
   "metadata": {
    "collapsed": true
   },
   "outputs": [],
   "source": [
    "#exp_matrix['grade']['Sales Executive-Home Loans']"
   ]
  },
  {
   "cell_type": "code",
   "execution_count": null,
   "metadata": {
    "collapsed": true
   },
   "outputs": [],
   "source": [
    "#\"e\" in exp_matrix['grade']['Sales Executive-Home Loans']"
   ]
  }
 ],
 "metadata": {
  "kernelspec": {
   "display_name": "Python 3",
   "language": "python",
   "name": "python3"
  },
  "language_info": {
   "codemirror_mode": {
    "name": "ipython",
    "version": 3
   },
   "file_extension": ".py",
   "mimetype": "text/x-python",
   "name": "python",
   "nbconvert_exporter": "python",
   "pygments_lexer": "ipython3",
   "version": "3.6.4"
  }
 },
 "nbformat": 4,
 "nbformat_minor": 2
}
